{
 "cells": [
  {
   "cell_type": "code",
   "execution_count": 1,
   "metadata": {},
   "outputs": [],
   "source": [
    "import numpy as np\n",
    "import scipy as sp\n",
    "import random as rand"
   ]
  },
  {
   "cell_type": "markdown",
   "metadata": {},
   "source": [
    "Constantes"
   ]
  },
  {
   "cell_type": "code",
   "execution_count": 2,
   "metadata": {},
   "outputs": [],
   "source": [
    "N=5\n",
    "deltamu=5\n",
    "T=295\n",
    "kb=1.380649e-23\n",
    "kbT=kb*T"
   ]
  },
  {
   "cell_type": "markdown",
   "metadata": {},
   "source": [
    "Étape 1 de l'algorithme : Générer la liste des 2N événements possibles"
   ]
  },
  {
   "cell_type": "code",
   "execution_count": 3,
   "metadata": {},
   "outputs": [
    {
     "name": "stdout",
     "output_type": "stream",
     "text": [
      "[(0, 0), (0, 1), (1, 0), (1, 1), (2, 0), (2, 1), (3, 0), (3, 1), (4, 0), (4, 1)]\n"
     ]
    }
   ],
   "source": [
    "typeEvnt=[0,1]\n",
    "listeEvnt=[]\n",
    "\n",
    "# Créer la liste de tous les événements possibles tuple (site, adsorption=0 ou desorption=1)\n",
    "for site in range(N):\n",
    "    for adOuDes in typeEvnt:\n",
    "        listeEvnt.append((site,adOuDes))\n",
    "\n",
    "print(listeEvnt)"
   ]
  },
  {
   "cell_type": "markdown",
   "metadata": {},
   "source": [
    "Étape 2 : Calcul des w de chacun des événements"
   ]
  },
  {
   "cell_type": "code",
   "execution_count": 4,
   "metadata": {},
   "outputs": [],
   "source": [
    "deltamu=-0.5\n",
    "kT=0.6\n",
    "deltaE=1\n",
    "\n",
    "w_liste=[]\n",
    "for i in listeEvnt:\n",
    "    if i[1]==0:\n",
    "        w=np.exp(deltamu/kT)\n",
    "        w_liste.append(w)\n",
    "    if i[1]==1:\n",
    "        w=np.exp(-deltaE/kT)\n",
    "        w_liste.append(w)\n",
    "W=np.sum(w_liste)"
   ]
  },
  {
   "cell_type": "markdown",
   "metadata": {},
   "source": [
    "Étape 3 : Normalisation des 2N probabilités"
   ]
  },
  {
   "cell_type": "code",
   "execution_count": 5,
   "metadata": {},
   "outputs": [
    {
     "name": "stdout",
     "output_type": "stream",
     "text": [
      "[0.13941185679308143, 0.06058814320691854, 0.13941185679308143, 0.06058814320691854, 0.13941185679308143, 0.06058814320691854, 0.13941185679308143, 0.06058814320691854, 0.13941185679308143, 0.06058814320691854]\n",
      "0.9999999999999999\n"
     ]
    }
   ],
   "source": [
    "w_normalisee=[w/W for w in w_liste]\n",
    "print(w_normalisee)\n",
    "print(np.sum(w_normalisee))"
   ]
  },
  {
   "cell_type": "markdown",
   "metadata": {},
   "source": [
    "Étape 4 : On génère un nombre aléatoire en 0 et 1 et on choisit le premier événement qui a une proba cumulée supérieure à r."
   ]
  },
  {
   "cell_type": "code",
   "execution_count": 6,
   "metadata": {},
   "outputs": [
    {
     "name": "stdout",
     "output_type": "stream",
     "text": [
      "0.24059702256033932\n",
      "L'indice de l'événement choisi est 2 \n",
      "0.3394118567930814\n",
      "0.19999999999999998\n",
      "0.24059702256033932\n",
      "L'événement est donc (1, 0)\n"
     ]
    }
   ],
   "source": [
    "nombre_r=np.random.rand()\n",
    "print(nombre_r)\n",
    "\n",
    "somme=0\n",
    "compteur=0\n",
    "proba_cumulée=[]\n",
    "for i in w_normalisee:\n",
    "    somme+=i\n",
    "    proba_cumulée.append(somme)\n",
    "    if somme>nombre_r:\n",
    "        print(f\"L'indice de l'événement choisi est {compteur} \")\n",
    "        break\n",
    "    compteur+=1\n",
    "\n",
    "print(proba_cumulée[compteur])\n",
    "print(proba_cumulée[compteur-1])\n",
    "print(nombre_r)\n",
    "print(f\"L'événement est donc {listeEvnt[compteur]}\")"
   ]
  },
  {
   "cell_type": "markdown",
   "metadata": {},
   "source": [
    "Étape 5 : Générer la nouvelle configuration"
   ]
  },
  {
   "cell_type": "code",
   "execution_count": null,
   "metadata": {},
   "outputs": [],
   "source": []
  },
  {
   "cell_type": "markdown",
   "metadata": {},
   "source": [
    "Étape 6 : Assigner un temps"
   ]
  },
  {
   "cell_type": "code",
   "execution_count": 7,
   "metadata": {},
   "outputs": [
    {
     "name": "stdout",
     "output_type": "stream",
     "text": [
      "0.38665156827292846\n",
      "0.33758444983083596\n"
     ]
    }
   ],
   "source": [
    "nombre_r_temps=np.random.rand()\n",
    "print(nombre_r_temps)\n",
    "\n",
    "deltatemps_reel=-1/(W*np.log(nombre_r_temps))\n",
    "print(deltatemps_reel)"
   ]
  }
 ],
 "metadata": {
  "kernelspec": {
   "display_name": "Python 3",
   "language": "python",
   "name": "python3"
  },
  "language_info": {
   "codemirror_mode": {
    "name": "ipython",
    "version": 3
   },
   "file_extension": ".py",
   "mimetype": "text/x-python",
   "name": "python",
   "nbconvert_exporter": "python",
   "pygments_lexer": "ipython3",
   "version": "3.11.9"
  }
 },
 "nbformat": 4,
 "nbformat_minor": 2
}
